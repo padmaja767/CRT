{
  "nbformat": 4,
  "nbformat_minor": 0,
  "metadata": {
    "colab": {
      "provenance": [],
      "authorship_tag": "ABX9TyOzgp5pC0j5hFUKmguGb/9L",
      "include_colab_link": true
    },
    "kernelspec": {
      "name": "python3",
      "display_name": "Python 3"
    },
    "language_info": {
      "name": "python"
    }
  },
  "cells": [
    {
      "cell_type": "markdown",
      "metadata": {
        "id": "view-in-github",
        "colab_type": "text"
      },
      "source": [
        "<a href=\"https://colab.research.google.com/github/padmaja767/CRT/blob/main/Dijkstras.ipynb\" target=\"_parent\"><img src=\"https://colab.research.google.com/assets/colab-badge.svg\" alt=\"Open In Colab\"/></a>"
      ]
    },
    {
      "cell_type": "code",
      "execution_count": 1,
      "metadata": {
        "colab": {
          "base_uri": "https://localhost:8080/"
        },
        "id": "okxbyufGrio8",
        "outputId": "ccaad42c-a6ca-472e-9ac6-556b10308035"
      },
      "outputs": [
        {
          "output_type": "stream",
          "name": "stdout",
          "text": [
            "[0, 7, 9, 20, 20, 11]\n"
          ]
        }
      ],
      "source": [
        "import sys\n",
        "def minimum(dist,visited,ver):\n",
        "    min_dist = sys.maxsize\n",
        "    for i in range(ver):\n",
        "        if dist[i]<min_dist and visited[i]==False:\n",
        "            min_dist = dist[i]\n",
        "            min_index = i\n",
        "    return min_index\n",
        "def dijktras(start,ver,graph):\n",
        "    dist = []\n",
        "    dist = [sys.maxsize]*ver\n",
        "    dist[start]=0\n",
        "    visited = [False]*ver\n",
        "\n",
        "    for i in range(ver):\n",
        "        x = minimum(dist,visited,ver)\n",
        "        visited[x] =True\n",
        "        for y in range(ver):\n",
        "            if graph[x][y] > 0 and visited[y] == False and dist[y] >dist[x]+graph[x][y]:\n",
        "                dist[y] = dist[x] + graph[x][y]\n",
        "    return dist\n",
        "graph = [\n",
        "    [0,7,9,0,0,14],\n",
        "    [7,0,10,15,0,0],\n",
        "    [9,10,0,11,0,2],\n",
        "    [0,15,11,0,6,0],\n",
        "    [0,0,0,0,6,9],\n",
        "    [14,0,2,0,9,0]\n",
        "    ]\n",
        "ver = len(graph)\n",
        "print(dijktras(0,ver,graph))"
      ]
    },
    {
      "cell_type": "code",
      "source": [
        "class dijktras:\n",
        "  def __init__(self,nodes):\n",
        "    # self.ver = ver\n",
        "    self.graph = [[0 for col in range(nodes)]for row in range(nodes)]\n",
        "  def minimum(self,dist,visited,ver):\n",
        "    min_dist = sys.maxsize\n",
        "    for i in range(ver):\n",
        "        if dist[i]<min_dist and visited[i]==False:\n",
        "            min_dist = dist[i]\n",
        "            min_index = i\n",
        "    return min_index\n",
        "  def dijktras(self,start,ver,graph):\n",
        "    dist = []\n",
        "    dist = [sys.maxsize]*ver\n",
        "    dist[start]=0\n",
        "    visited = [False]*ver\n",
        "\n",
        "    for i in range(ver):\n",
        "        x = self.minimum(dist,visited,ver)\n",
        "        visited[x] =True\n",
        "        for y in range(ver):\n",
        "            if graph[x][y] > 0 and visited[y] == False and dist[y] >dist[x]+graph[x][y]:\n",
        "                dist[y] = dist[x] + graph[x][y]\n",
        "    return  dist\n",
        "obj = dijktras(6)\n",
        "obj.graph = [\n",
        "    [0,7,9,0,0,14],\n",
        "    [7,0,10,15,0,0],\n",
        "    [9,10,0,11,0,2],\n",
        "    [0,15,11,0,6,0],\n",
        "    [0,0,0,0,6,9],\n",
        "    [14,0,2,0,9,0]\n",
        "    ]\n",
        "ver = len(obj.graph)\n",
        "print(obj.dijktras(0,ver,graph))\n",
        "\n",
        "# print(dijktras(0,ver,graph))"
      ],
      "metadata": {
        "colab": {
          "base_uri": "https://localhost:8080/"
        },
        "id": "O6BHLmAjsU6M",
        "outputId": "b2b7fde2-f8d4-4252-9d20-715eba82a75f"
      },
      "execution_count": 8,
      "outputs": [
        {
          "output_type": "stream",
          "name": "stdout",
          "text": [
            "[0, 7, 9, 20, 20, 11]\n"
          ]
        }
      ]
    },
    {
      "cell_type": "code",
      "source": [],
      "metadata": {
        "id": "hQRa2eDEsVd7"
      },
      "execution_count": null,
      "outputs": []
    }
  ]
}